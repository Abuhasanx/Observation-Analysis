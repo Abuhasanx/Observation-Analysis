{
 "cells": [
  {
   "cell_type": "code",
   "execution_count": null,
   "metadata": {},
   "outputs": [],
   "source": [
    "!pip install pandas openpyxl"
   ]
  },
  {
   "cell_type": "code",
   "execution_count": 6,
   "metadata": {},
   "outputs": [],
   "source": [
    "import os"
   ]
  },
  {
   "cell_type": "code",
   "execution_count": null,
   "metadata": {},
   "outputs": [],
   "source": [
    "os.getcwd()"
   ]
  },
  {
   "cell_type": "code",
   "execution_count": 2,
   "metadata": {},
   "outputs": [],
   "source": [
    "import pandas as pd\n",
    "# Specify the file path\n",
    "file_path = \"Bird_Monitoring_Data_FOREST.XLSX\"\n",
    "\n",
    "# Read the Excel file with multiple sheets\n",
    "excel_data = pd.ExcelFile(file_path)\n",
    "\n",
    "# Get all sheet names\n",
    "sheet_names = excel_data.sheet_names\n",
    "\n",
    "# Read data from all sheets into a dictionary\n",
    "sheets_dict = {sheet: excel_data.parse(sheet) for sheet in sheet_names}"
   ]
  },
  {
   "cell_type": "code",
   "execution_count": 3,
   "metadata": {},
   "outputs": [],
   "source": [
    "# Example: Convert sheets_dict to a single DataFrame; this will add a new sheet column at the last.\n",
    "combined_df = pd.concat(\n",
    "    [df.assign(Sheet=sheet_name) for sheet_name, df in sheets_dict.items()],\n",
    "    ignore_index=True\n",
    ")"
   ]
  },
  {
   "cell_type": "code",
   "execution_count": 4,
   "metadata": {},
   "outputs": [],
   "source": [
    "# later u can Drop the 'Sheet' column\n",
    "combined_df = combined_df.drop(columns=['Sheet'])"
   ]
  },
  {
   "cell_type": "code",
   "execution_count": null,
   "metadata": {},
   "outputs": [],
   "source": [
    "combined_df"
   ]
  },
  {
   "cell_type": "code",
   "execution_count": null,
   "metadata": {},
   "outputs": [],
   "source": [
    "combined_df.count()"
   ]
  },
  {
   "cell_type": "code",
   "execution_count": 7,
   "metadata": {},
   "outputs": [],
   "source": [
    "combined_df.drop(columns=['Sub_Unit_Code'], inplace=True)"
   ]
  },
  {
   "cell_type": "markdown",
   "metadata": {},
   "source": [
    "EDA"
   ]
  },
  {
   "cell_type": "code",
   "execution_count": 8,
   "metadata": {},
   "outputs": [
    {
     "data": {
      "text/plain": [
       "(8546, 28)"
      ]
     },
     "execution_count": 8,
     "metadata": {},
     "output_type": "execute_result"
    }
   ],
   "source": [
    "combined_df.shape"
   ]
  },
  {
   "cell_type": "code",
   "execution_count": null,
   "metadata": {},
   "outputs": [],
   "source": [
    "combined_df.info()\n"
   ]
  },
  {
   "cell_type": "code",
   "execution_count": null,
   "metadata": {},
   "outputs": [],
   "source": [
    "combined_df.isnull().sum()"
   ]
  },
  {
   "cell_type": "code",
   "execution_count": 11,
   "metadata": {},
   "outputs": [],
   "source": [
    "combined_df.drop(columns=['Sex'], inplace=True)"
   ]
  },
  {
   "cell_type": "code",
   "execution_count": null,
   "metadata": {},
   "outputs": [],
   "source": [
    "combined_df.head()"
   ]
  },
  {
   "cell_type": "code",
   "execution_count": 13,
   "metadata": {},
   "outputs": [],
   "source": [
    "missing_id_method_rows = combined_df[combined_df['ID_Method'].isna()]"
   ]
  },
  {
   "cell_type": "code",
   "execution_count": 14,
   "metadata": {},
   "outputs": [
    {
     "data": {
      "text/html": [
       "<div>\n",
       "<style scoped>\n",
       "    .dataframe tbody tr th:only-of-type {\n",
       "        vertical-align: middle;\n",
       "    }\n",
       "\n",
       "    .dataframe tbody tr th {\n",
       "        vertical-align: top;\n",
       "    }\n",
       "\n",
       "    .dataframe thead th {\n",
       "        text-align: right;\n",
       "    }\n",
       "</style>\n",
       "<table border=\"1\" class=\"dataframe\">\n",
       "  <thead>\n",
       "    <tr style=\"text-align: right;\">\n",
       "      <th></th>\n",
       "      <th>Admin_Unit_Code</th>\n",
       "      <th>Site_Name</th>\n",
       "      <th>Plot_Name</th>\n",
       "      <th>Location_Type</th>\n",
       "      <th>Year</th>\n",
       "      <th>Date</th>\n",
       "      <th>Start_Time</th>\n",
       "      <th>End_Time</th>\n",
       "      <th>Observer</th>\n",
       "      <th>Visit</th>\n",
       "      <th>...</th>\n",
       "      <th>NPSTaxonCode</th>\n",
       "      <th>AOU_Code</th>\n",
       "      <th>PIF_Watchlist_Status</th>\n",
       "      <th>Regional_Stewardship_Status</th>\n",
       "      <th>Temperature</th>\n",
       "      <th>Humidity</th>\n",
       "      <th>Sky</th>\n",
       "      <th>Wind</th>\n",
       "      <th>Disturbance</th>\n",
       "      <th>Initial_Three_Min_Cnt</th>\n",
       "    </tr>\n",
       "  </thead>\n",
       "  <tbody>\n",
       "    <tr>\n",
       "      <th>5853</th>\n",
       "      <td>PRWI</td>\n",
       "      <td>PRWI 1</td>\n",
       "      <td>PRWI-0051</td>\n",
       "      <td>Forest</td>\n",
       "      <td>2018</td>\n",
       "      <td>2018-06-06</td>\n",
       "      <td>06:16:00</td>\n",
       "      <td>06:26:00</td>\n",
       "      <td>Kimberly Serno</td>\n",
       "      <td>1</td>\n",
       "      <td>...</td>\n",
       "      <td>93587</td>\n",
       "      <td>REVI</td>\n",
       "      <td>False</td>\n",
       "      <td>False</td>\n",
       "      <td>18.9</td>\n",
       "      <td>69.800003</td>\n",
       "      <td>Partly Cloudy</td>\n",
       "      <td>Light breeze (4-7 mph) wind felt on face</td>\n",
       "      <td>Slight effect on count</td>\n",
       "      <td>False</td>\n",
       "    </tr>\n",
       "  </tbody>\n",
       "</table>\n",
       "<p>1 rows × 27 columns</p>\n",
       "</div>"
      ],
      "text/plain": [
       "     Admin_Unit_Code Site_Name  Plot_Name Location_Type  Year       Date  \\\n",
       "5853            PRWI    PRWI 1  PRWI-0051        Forest  2018 2018-06-06   \n",
       "\n",
       "     Start_Time  End_Time        Observer  Visit  ... NPSTaxonCode AOU_Code  \\\n",
       "5853   06:16:00  06:26:00  Kimberly Serno      1  ...        93587     REVI   \n",
       "\n",
       "     PIF_Watchlist_Status  Regional_Stewardship_Status Temperature   Humidity  \\\n",
       "5853                False                        False        18.9  69.800003   \n",
       "\n",
       "                Sky                                      Wind  \\\n",
       "5853  Partly Cloudy  Light breeze (4-7 mph) wind felt on face   \n",
       "\n",
       "                 Disturbance  Initial_Three_Min_Cnt  \n",
       "5853  Slight effect on count                  False  \n",
       "\n",
       "[1 rows x 27 columns]"
      ]
     },
     "execution_count": 14,
     "metadata": {},
     "output_type": "execute_result"
    }
   ],
   "source": [
    "missing_id_method_rows"
   ]
  },
  {
   "cell_type": "code",
   "execution_count": 15,
   "metadata": {},
   "outputs": [],
   "source": [
    "pd.set_option('display.max_columns', None)"
   ]
  },
  {
   "cell_type": "code",
   "execution_count": 16,
   "metadata": {},
   "outputs": [],
   "source": [
    "filtered_df = combined_df[combined_df['Common_Name'] == \"Red-eyed Vireo\"]"
   ]
  },
  {
   "cell_type": "code",
   "execution_count": null,
   "metadata": {},
   "outputs": [],
   "source": [
    "filtered_df"
   ]
  },
  {
   "cell_type": "code",
   "execution_count": null,
   "metadata": {},
   "outputs": [],
   "source": [
    "combined_df[\"ID_Method\"].fillna(\"Singing\",inplace=True)"
   ]
  },
  {
   "cell_type": "code",
   "execution_count": null,
   "metadata": {},
   "outputs": [],
   "source": [
    "combined_df.count()"
   ]
  },
  {
   "cell_type": "code",
   "execution_count": 20,
   "metadata": {},
   "outputs": [],
   "source": [
    "missing_id_method_rows = combined_df[combined_df['ID_Method'].isna()]"
   ]
  },
  {
   "cell_type": "code",
   "execution_count": null,
   "metadata": {},
   "outputs": [],
   "source": [
    "missing_id_method_rows "
   ]
  },
  {
   "cell_type": "code",
   "execution_count": 22,
   "metadata": {},
   "outputs": [],
   "source": [
    "missing_id= combined_df[combined_df['AcceptedTSN'].isna()]"
   ]
  },
  {
   "cell_type": "code",
   "execution_count": null,
   "metadata": {},
   "outputs": [],
   "source": [
    "missing_id"
   ]
  },
  {
   "cell_type": "code",
   "execution_count": 24,
   "metadata": {},
   "outputs": [],
   "source": [
    "filter = combined_df[combined_df['NPSTaxonCode'] == 926917]"
   ]
  },
  {
   "cell_type": "code",
   "execution_count": null,
   "metadata": {},
   "outputs": [],
   "source": [
    "filter"
   ]
  },
  {
   "cell_type": "code",
   "execution_count": null,
   "metadata": {},
   "outputs": [],
   "source": [
    "combined_df[\"AcceptedTSN\"].fillna(\"NULL\",inplace=True)"
   ]
  },
  {
   "cell_type": "code",
   "execution_count": null,
   "metadata": {},
   "outputs": [],
   "source": [
    "combined_df.count()"
   ]
  },
  {
   "cell_type": "code",
   "execution_count": null,
   "metadata": {},
   "outputs": [],
   "source": [
    "mode_value = combined_df['Distance'].mode()[0]\n",
    "combined_df['Distance'].fillna(mode_value, inplace=True)\n"
   ]
  },
  {
   "cell_type": "code",
   "execution_count": null,
   "metadata": {},
   "outputs": [],
   "source": [
    "combined_df.head(5)"
   ]
  },
  {
   "cell_type": "code",
   "execution_count": 43,
   "metadata": {},
   "outputs": [],
   "source": [
    "combined_df[\"Temperature\"]=combined_df[\"Temperature\"].round(0).astype(int)"
   ]
  },
  {
   "cell_type": "code",
   "execution_count": 45,
   "metadata": {},
   "outputs": [
    {
     "data": {
      "text/html": [
       "<div>\n",
       "<style scoped>\n",
       "    .dataframe tbody tr th:only-of-type {\n",
       "        vertical-align: middle;\n",
       "    }\n",
       "\n",
       "    .dataframe tbody tr th {\n",
       "        vertical-align: top;\n",
       "    }\n",
       "\n",
       "    .dataframe thead th {\n",
       "        text-align: right;\n",
       "    }\n",
       "</style>\n",
       "<table border=\"1\" class=\"dataframe\">\n",
       "  <thead>\n",
       "    <tr style=\"text-align: right;\">\n",
       "      <th></th>\n",
       "      <th>Admin_Unit_Code</th>\n",
       "      <th>Site_Name</th>\n",
       "      <th>Plot_Name</th>\n",
       "      <th>Location_Type</th>\n",
       "      <th>Year</th>\n",
       "      <th>Date</th>\n",
       "      <th>Start_Time</th>\n",
       "      <th>End_Time</th>\n",
       "      <th>Observer</th>\n",
       "      <th>Visit</th>\n",
       "      <th>Interval_Length</th>\n",
       "      <th>ID_Method</th>\n",
       "      <th>Distance</th>\n",
       "      <th>Flyover_Observed</th>\n",
       "      <th>Common_Name</th>\n",
       "      <th>Scientific_Name</th>\n",
       "      <th>AcceptedTSN</th>\n",
       "      <th>NPSTaxonCode</th>\n",
       "      <th>AOU_Code</th>\n",
       "      <th>PIF_Watchlist_Status</th>\n",
       "      <th>Regional_Stewardship_Status</th>\n",
       "      <th>Temperature</th>\n",
       "      <th>Humidity</th>\n",
       "      <th>Sky</th>\n",
       "      <th>Wind</th>\n",
       "      <th>Disturbance</th>\n",
       "      <th>Initial_Three_Min_Cnt</th>\n",
       "    </tr>\n",
       "  </thead>\n",
       "  <tbody>\n",
       "    <tr>\n",
       "      <th>0</th>\n",
       "      <td>ANTI</td>\n",
       "      <td>ANTI 1</td>\n",
       "      <td>ANTI-0036</td>\n",
       "      <td>Forest</td>\n",
       "      <td>2018</td>\n",
       "      <td>2018-05-22</td>\n",
       "      <td>06:19:00</td>\n",
       "      <td>06:29:00</td>\n",
       "      <td>Elizabeth Oswald</td>\n",
       "      <td>1</td>\n",
       "      <td>0-2.5 min</td>\n",
       "      <td>Singing</td>\n",
       "      <td>&lt;= 50 Meters</td>\n",
       "      <td>False</td>\n",
       "      <td>Eastern Towhee</td>\n",
       "      <td>Pipilo erythrophthalmus</td>\n",
       "      <td>179276.0</td>\n",
       "      <td>83803</td>\n",
       "      <td>EATO</td>\n",
       "      <td>False</td>\n",
       "      <td>True</td>\n",
       "      <td>20</td>\n",
       "      <td>79.400002</td>\n",
       "      <td>Cloudy/Overcast</td>\n",
       "      <td>Calm (&lt; 1 mph) smoke rises vertically</td>\n",
       "      <td>No effect on count</td>\n",
       "      <td>True</td>\n",
       "    </tr>\n",
       "    <tr>\n",
       "      <th>1</th>\n",
       "      <td>ANTI</td>\n",
       "      <td>ANTI 1</td>\n",
       "      <td>ANTI-0036</td>\n",
       "      <td>Forest</td>\n",
       "      <td>2018</td>\n",
       "      <td>2018-05-22</td>\n",
       "      <td>06:19:00</td>\n",
       "      <td>06:29:00</td>\n",
       "      <td>Elizabeth Oswald</td>\n",
       "      <td>1</td>\n",
       "      <td>0-2.5 min</td>\n",
       "      <td>Calling</td>\n",
       "      <td>&lt;= 50 Meters</td>\n",
       "      <td>False</td>\n",
       "      <td>White-breasted Nuthatch</td>\n",
       "      <td>Sitta carolinensis</td>\n",
       "      <td>178775.0</td>\n",
       "      <td>90935</td>\n",
       "      <td>WBNU</td>\n",
       "      <td>False</td>\n",
       "      <td>False</td>\n",
       "      <td>20</td>\n",
       "      <td>79.400002</td>\n",
       "      <td>Cloudy/Overcast</td>\n",
       "      <td>Calm (&lt; 1 mph) smoke rises vertically</td>\n",
       "      <td>No effect on count</td>\n",
       "      <td>True</td>\n",
       "    </tr>\n",
       "    <tr>\n",
       "      <th>2</th>\n",
       "      <td>ANTI</td>\n",
       "      <td>ANTI 1</td>\n",
       "      <td>ANTI-0036</td>\n",
       "      <td>Forest</td>\n",
       "      <td>2018</td>\n",
       "      <td>2018-05-22</td>\n",
       "      <td>06:19:00</td>\n",
       "      <td>06:29:00</td>\n",
       "      <td>Elizabeth Oswald</td>\n",
       "      <td>1</td>\n",
       "      <td>2.5 - 5 min</td>\n",
       "      <td>Calling</td>\n",
       "      <td>50 - 100 Meters</td>\n",
       "      <td>False</td>\n",
       "      <td>Red-bellied Woodpecker</td>\n",
       "      <td>Melanerpes carolinus</td>\n",
       "      <td>178195.0</td>\n",
       "      <td>84865</td>\n",
       "      <td>RBWO</td>\n",
       "      <td>False</td>\n",
       "      <td>False</td>\n",
       "      <td>20</td>\n",
       "      <td>79.400002</td>\n",
       "      <td>Cloudy/Overcast</td>\n",
       "      <td>Calm (&lt; 1 mph) smoke rises vertically</td>\n",
       "      <td>No effect on count</td>\n",
       "      <td>False</td>\n",
       "    </tr>\n",
       "    <tr>\n",
       "      <th>3</th>\n",
       "      <td>ANTI</td>\n",
       "      <td>ANTI 1</td>\n",
       "      <td>ANTI-0036</td>\n",
       "      <td>Forest</td>\n",
       "      <td>2018</td>\n",
       "      <td>2018-05-22</td>\n",
       "      <td>06:19:00</td>\n",
       "      <td>06:29:00</td>\n",
       "      <td>Elizabeth Oswald</td>\n",
       "      <td>1</td>\n",
       "      <td>2.5 - 5 min</td>\n",
       "      <td>Singing</td>\n",
       "      <td>&lt;= 50 Meters</td>\n",
       "      <td>False</td>\n",
       "      <td>Orchard Oriole</td>\n",
       "      <td>Icterus spurius</td>\n",
       "      <td>179064.0</td>\n",
       "      <td>93634</td>\n",
       "      <td>OROR</td>\n",
       "      <td>False</td>\n",
       "      <td>False</td>\n",
       "      <td>20</td>\n",
       "      <td>79.400002</td>\n",
       "      <td>Cloudy/Overcast</td>\n",
       "      <td>Calm (&lt; 1 mph) smoke rises vertically</td>\n",
       "      <td>No effect on count</td>\n",
       "      <td>False</td>\n",
       "    </tr>\n",
       "    <tr>\n",
       "      <th>4</th>\n",
       "      <td>ANTI</td>\n",
       "      <td>ANTI 1</td>\n",
       "      <td>ANTI-0036</td>\n",
       "      <td>Forest</td>\n",
       "      <td>2018</td>\n",
       "      <td>2018-05-22</td>\n",
       "      <td>06:19:00</td>\n",
       "      <td>06:29:00</td>\n",
       "      <td>Elizabeth Oswald</td>\n",
       "      <td>1</td>\n",
       "      <td>2.5 - 5 min</td>\n",
       "      <td>Visualization</td>\n",
       "      <td>&lt;= 50 Meters</td>\n",
       "      <td>False</td>\n",
       "      <td>Northern Mockingbird</td>\n",
       "      <td>Mimus polyglottos</td>\n",
       "      <td>178620.0</td>\n",
       "      <td>88394</td>\n",
       "      <td>NOMO</td>\n",
       "      <td>False</td>\n",
       "      <td>False</td>\n",
       "      <td>20</td>\n",
       "      <td>79.400002</td>\n",
       "      <td>Cloudy/Overcast</td>\n",
       "      <td>Calm (&lt; 1 mph) smoke rises vertically</td>\n",
       "      <td>No effect on count</td>\n",
       "      <td>False</td>\n",
       "    </tr>\n",
       "  </tbody>\n",
       "</table>\n",
       "</div>"
      ],
      "text/plain": [
       "  Admin_Unit_Code Site_Name  Plot_Name Location_Type  Year       Date  \\\n",
       "0            ANTI    ANTI 1  ANTI-0036        Forest  2018 2018-05-22   \n",
       "1            ANTI    ANTI 1  ANTI-0036        Forest  2018 2018-05-22   \n",
       "2            ANTI    ANTI 1  ANTI-0036        Forest  2018 2018-05-22   \n",
       "3            ANTI    ANTI 1  ANTI-0036        Forest  2018 2018-05-22   \n",
       "4            ANTI    ANTI 1  ANTI-0036        Forest  2018 2018-05-22   \n",
       "\n",
       "  Start_Time  End_Time          Observer  Visit Interval_Length  \\\n",
       "0   06:19:00  06:29:00  Elizabeth Oswald      1       0-2.5 min   \n",
       "1   06:19:00  06:29:00  Elizabeth Oswald      1       0-2.5 min   \n",
       "2   06:19:00  06:29:00  Elizabeth Oswald      1     2.5 - 5 min   \n",
       "3   06:19:00  06:29:00  Elizabeth Oswald      1     2.5 - 5 min   \n",
       "4   06:19:00  06:29:00  Elizabeth Oswald      1     2.5 - 5 min   \n",
       "\n",
       "       ID_Method         Distance  Flyover_Observed              Common_Name  \\\n",
       "0        Singing     <= 50 Meters             False           Eastern Towhee   \n",
       "1        Calling     <= 50 Meters             False  White-breasted Nuthatch   \n",
       "2        Calling  50 - 100 Meters             False   Red-bellied Woodpecker   \n",
       "3        Singing     <= 50 Meters             False           Orchard Oriole   \n",
       "4  Visualization     <= 50 Meters             False     Northern Mockingbird   \n",
       "\n",
       "           Scientific_Name AcceptedTSN  NPSTaxonCode AOU_Code  \\\n",
       "0  Pipilo erythrophthalmus    179276.0         83803     EATO   \n",
       "1       Sitta carolinensis    178775.0         90935     WBNU   \n",
       "2     Melanerpes carolinus    178195.0         84865     RBWO   \n",
       "3          Icterus spurius    179064.0         93634     OROR   \n",
       "4        Mimus polyglottos    178620.0         88394     NOMO   \n",
       "\n",
       "   PIF_Watchlist_Status  Regional_Stewardship_Status  Temperature   Humidity  \\\n",
       "0                 False                         True           20  79.400002   \n",
       "1                 False                        False           20  79.400002   \n",
       "2                 False                        False           20  79.400002   \n",
       "3                 False                        False           20  79.400002   \n",
       "4                 False                        False           20  79.400002   \n",
       "\n",
       "               Sky                                   Wind         Disturbance  \\\n",
       "0  Cloudy/Overcast  Calm (< 1 mph) smoke rises vertically  No effect on count   \n",
       "1  Cloudy/Overcast  Calm (< 1 mph) smoke rises vertically  No effect on count   \n",
       "2  Cloudy/Overcast  Calm (< 1 mph) smoke rises vertically  No effect on count   \n",
       "3  Cloudy/Overcast  Calm (< 1 mph) smoke rises vertically  No effect on count   \n",
       "4  Cloudy/Overcast  Calm (< 1 mph) smoke rises vertically  No effect on count   \n",
       "\n",
       "   Initial_Three_Min_Cnt  \n",
       "0                   True  \n",
       "1                   True  \n",
       "2                  False  \n",
       "3                  False  \n",
       "4                  False  "
      ]
     },
     "execution_count": 45,
     "metadata": {},
     "output_type": "execute_result"
    }
   ],
   "source": [
    "combined_df.head(5)"
   ]
  },
  {
   "cell_type": "code",
   "execution_count": 46,
   "metadata": {},
   "outputs": [],
   "source": [
    "combined_df[\"Humidity\"]=combined_df[\"Humidity\"].round(0).astype(int)"
   ]
  },
  {
   "cell_type": "code",
   "execution_count": 48,
   "metadata": {},
   "outputs": [
    {
     "data": {
      "text/html": [
       "<div>\n",
       "<style scoped>\n",
       "    .dataframe tbody tr th:only-of-type {\n",
       "        vertical-align: middle;\n",
       "    }\n",
       "\n",
       "    .dataframe tbody tr th {\n",
       "        vertical-align: top;\n",
       "    }\n",
       "\n",
       "    .dataframe thead th {\n",
       "        text-align: right;\n",
       "    }\n",
       "</style>\n",
       "<table border=\"1\" class=\"dataframe\">\n",
       "  <thead>\n",
       "    <tr style=\"text-align: right;\">\n",
       "      <th></th>\n",
       "      <th>Admin_Unit_Code</th>\n",
       "      <th>Site_Name</th>\n",
       "      <th>Plot_Name</th>\n",
       "      <th>Location_Type</th>\n",
       "      <th>Year</th>\n",
       "      <th>Date</th>\n",
       "      <th>Start_Time</th>\n",
       "      <th>End_Time</th>\n",
       "      <th>Observer</th>\n",
       "      <th>Visit</th>\n",
       "      <th>Interval_Length</th>\n",
       "      <th>ID_Method</th>\n",
       "      <th>Distance</th>\n",
       "      <th>Flyover_Observed</th>\n",
       "      <th>Common_Name</th>\n",
       "      <th>Scientific_Name</th>\n",
       "      <th>AcceptedTSN</th>\n",
       "      <th>NPSTaxonCode</th>\n",
       "      <th>AOU_Code</th>\n",
       "      <th>PIF_Watchlist_Status</th>\n",
       "      <th>Regional_Stewardship_Status</th>\n",
       "      <th>Temperature</th>\n",
       "      <th>Humidity</th>\n",
       "      <th>Sky</th>\n",
       "      <th>Wind</th>\n",
       "      <th>Disturbance</th>\n",
       "      <th>Initial_Three_Min_Cnt</th>\n",
       "    </tr>\n",
       "  </thead>\n",
       "  <tbody>\n",
       "    <tr>\n",
       "      <th>0</th>\n",
       "      <td>ANTI</td>\n",
       "      <td>ANTI 1</td>\n",
       "      <td>ANTI-0036</td>\n",
       "      <td>Forest</td>\n",
       "      <td>2018</td>\n",
       "      <td>2018-05-22</td>\n",
       "      <td>06:19:00</td>\n",
       "      <td>06:29:00</td>\n",
       "      <td>Elizabeth Oswald</td>\n",
       "      <td>1</td>\n",
       "      <td>0-2.5 min</td>\n",
       "      <td>Singing</td>\n",
       "      <td>&lt;= 50 Meters</td>\n",
       "      <td>False</td>\n",
       "      <td>Eastern Towhee</td>\n",
       "      <td>Pipilo erythrophthalmus</td>\n",
       "      <td>179276.0</td>\n",
       "      <td>83803</td>\n",
       "      <td>EATO</td>\n",
       "      <td>False</td>\n",
       "      <td>True</td>\n",
       "      <td>20</td>\n",
       "      <td>79</td>\n",
       "      <td>Cloudy/Overcast</td>\n",
       "      <td>Calm (&lt; 1 mph) smoke rises vertically</td>\n",
       "      <td>No effect on count</td>\n",
       "      <td>True</td>\n",
       "    </tr>\n",
       "    <tr>\n",
       "      <th>1</th>\n",
       "      <td>ANTI</td>\n",
       "      <td>ANTI 1</td>\n",
       "      <td>ANTI-0036</td>\n",
       "      <td>Forest</td>\n",
       "      <td>2018</td>\n",
       "      <td>2018-05-22</td>\n",
       "      <td>06:19:00</td>\n",
       "      <td>06:29:00</td>\n",
       "      <td>Elizabeth Oswald</td>\n",
       "      <td>1</td>\n",
       "      <td>0-2.5 min</td>\n",
       "      <td>Calling</td>\n",
       "      <td>&lt;= 50 Meters</td>\n",
       "      <td>False</td>\n",
       "      <td>White-breasted Nuthatch</td>\n",
       "      <td>Sitta carolinensis</td>\n",
       "      <td>178775.0</td>\n",
       "      <td>90935</td>\n",
       "      <td>WBNU</td>\n",
       "      <td>False</td>\n",
       "      <td>False</td>\n",
       "      <td>20</td>\n",
       "      <td>79</td>\n",
       "      <td>Cloudy/Overcast</td>\n",
       "      <td>Calm (&lt; 1 mph) smoke rises vertically</td>\n",
       "      <td>No effect on count</td>\n",
       "      <td>True</td>\n",
       "    </tr>\n",
       "    <tr>\n",
       "      <th>2</th>\n",
       "      <td>ANTI</td>\n",
       "      <td>ANTI 1</td>\n",
       "      <td>ANTI-0036</td>\n",
       "      <td>Forest</td>\n",
       "      <td>2018</td>\n",
       "      <td>2018-05-22</td>\n",
       "      <td>06:19:00</td>\n",
       "      <td>06:29:00</td>\n",
       "      <td>Elizabeth Oswald</td>\n",
       "      <td>1</td>\n",
       "      <td>2.5 - 5 min</td>\n",
       "      <td>Calling</td>\n",
       "      <td>50 - 100 Meters</td>\n",
       "      <td>False</td>\n",
       "      <td>Red-bellied Woodpecker</td>\n",
       "      <td>Melanerpes carolinus</td>\n",
       "      <td>178195.0</td>\n",
       "      <td>84865</td>\n",
       "      <td>RBWO</td>\n",
       "      <td>False</td>\n",
       "      <td>False</td>\n",
       "      <td>20</td>\n",
       "      <td>79</td>\n",
       "      <td>Cloudy/Overcast</td>\n",
       "      <td>Calm (&lt; 1 mph) smoke rises vertically</td>\n",
       "      <td>No effect on count</td>\n",
       "      <td>False</td>\n",
       "    </tr>\n",
       "    <tr>\n",
       "      <th>3</th>\n",
       "      <td>ANTI</td>\n",
       "      <td>ANTI 1</td>\n",
       "      <td>ANTI-0036</td>\n",
       "      <td>Forest</td>\n",
       "      <td>2018</td>\n",
       "      <td>2018-05-22</td>\n",
       "      <td>06:19:00</td>\n",
       "      <td>06:29:00</td>\n",
       "      <td>Elizabeth Oswald</td>\n",
       "      <td>1</td>\n",
       "      <td>2.5 - 5 min</td>\n",
       "      <td>Singing</td>\n",
       "      <td>&lt;= 50 Meters</td>\n",
       "      <td>False</td>\n",
       "      <td>Orchard Oriole</td>\n",
       "      <td>Icterus spurius</td>\n",
       "      <td>179064.0</td>\n",
       "      <td>93634</td>\n",
       "      <td>OROR</td>\n",
       "      <td>False</td>\n",
       "      <td>False</td>\n",
       "      <td>20</td>\n",
       "      <td>79</td>\n",
       "      <td>Cloudy/Overcast</td>\n",
       "      <td>Calm (&lt; 1 mph) smoke rises vertically</td>\n",
       "      <td>No effect on count</td>\n",
       "      <td>False</td>\n",
       "    </tr>\n",
       "    <tr>\n",
       "      <th>4</th>\n",
       "      <td>ANTI</td>\n",
       "      <td>ANTI 1</td>\n",
       "      <td>ANTI-0036</td>\n",
       "      <td>Forest</td>\n",
       "      <td>2018</td>\n",
       "      <td>2018-05-22</td>\n",
       "      <td>06:19:00</td>\n",
       "      <td>06:29:00</td>\n",
       "      <td>Elizabeth Oswald</td>\n",
       "      <td>1</td>\n",
       "      <td>2.5 - 5 min</td>\n",
       "      <td>Visualization</td>\n",
       "      <td>&lt;= 50 Meters</td>\n",
       "      <td>False</td>\n",
       "      <td>Northern Mockingbird</td>\n",
       "      <td>Mimus polyglottos</td>\n",
       "      <td>178620.0</td>\n",
       "      <td>88394</td>\n",
       "      <td>NOMO</td>\n",
       "      <td>False</td>\n",
       "      <td>False</td>\n",
       "      <td>20</td>\n",
       "      <td>79</td>\n",
       "      <td>Cloudy/Overcast</td>\n",
       "      <td>Calm (&lt; 1 mph) smoke rises vertically</td>\n",
       "      <td>No effect on count</td>\n",
       "      <td>False</td>\n",
       "    </tr>\n",
       "  </tbody>\n",
       "</table>\n",
       "</div>"
      ],
      "text/plain": [
       "  Admin_Unit_Code Site_Name  Plot_Name Location_Type  Year       Date  \\\n",
       "0            ANTI    ANTI 1  ANTI-0036        Forest  2018 2018-05-22   \n",
       "1            ANTI    ANTI 1  ANTI-0036        Forest  2018 2018-05-22   \n",
       "2            ANTI    ANTI 1  ANTI-0036        Forest  2018 2018-05-22   \n",
       "3            ANTI    ANTI 1  ANTI-0036        Forest  2018 2018-05-22   \n",
       "4            ANTI    ANTI 1  ANTI-0036        Forest  2018 2018-05-22   \n",
       "\n",
       "  Start_Time  End_Time          Observer  Visit Interval_Length  \\\n",
       "0   06:19:00  06:29:00  Elizabeth Oswald      1       0-2.5 min   \n",
       "1   06:19:00  06:29:00  Elizabeth Oswald      1       0-2.5 min   \n",
       "2   06:19:00  06:29:00  Elizabeth Oswald      1     2.5 - 5 min   \n",
       "3   06:19:00  06:29:00  Elizabeth Oswald      1     2.5 - 5 min   \n",
       "4   06:19:00  06:29:00  Elizabeth Oswald      1     2.5 - 5 min   \n",
       "\n",
       "       ID_Method         Distance  Flyover_Observed              Common_Name  \\\n",
       "0        Singing     <= 50 Meters             False           Eastern Towhee   \n",
       "1        Calling     <= 50 Meters             False  White-breasted Nuthatch   \n",
       "2        Calling  50 - 100 Meters             False   Red-bellied Woodpecker   \n",
       "3        Singing     <= 50 Meters             False           Orchard Oriole   \n",
       "4  Visualization     <= 50 Meters             False     Northern Mockingbird   \n",
       "\n",
       "           Scientific_Name AcceptedTSN  NPSTaxonCode AOU_Code  \\\n",
       "0  Pipilo erythrophthalmus    179276.0         83803     EATO   \n",
       "1       Sitta carolinensis    178775.0         90935     WBNU   \n",
       "2     Melanerpes carolinus    178195.0         84865     RBWO   \n",
       "3          Icterus spurius    179064.0         93634     OROR   \n",
       "4        Mimus polyglottos    178620.0         88394     NOMO   \n",
       "\n",
       "   PIF_Watchlist_Status  Regional_Stewardship_Status  Temperature  Humidity  \\\n",
       "0                 False                         True           20        79   \n",
       "1                 False                        False           20        79   \n",
       "2                 False                        False           20        79   \n",
       "3                 False                        False           20        79   \n",
       "4                 False                        False           20        79   \n",
       "\n",
       "               Sky                                   Wind         Disturbance  \\\n",
       "0  Cloudy/Overcast  Calm (< 1 mph) smoke rises vertically  No effect on count   \n",
       "1  Cloudy/Overcast  Calm (< 1 mph) smoke rises vertically  No effect on count   \n",
       "2  Cloudy/Overcast  Calm (< 1 mph) smoke rises vertically  No effect on count   \n",
       "3  Cloudy/Overcast  Calm (< 1 mph) smoke rises vertically  No effect on count   \n",
       "4  Cloudy/Overcast  Calm (< 1 mph) smoke rises vertically  No effect on count   \n",
       "\n",
       "   Initial_Three_Min_Cnt  \n",
       "0                   True  \n",
       "1                   True  \n",
       "2                  False  \n",
       "3                  False  \n",
       "4                  False  "
      ]
     },
     "execution_count": 48,
     "metadata": {},
     "output_type": "execute_result"
    }
   ],
   "source": [
    "combined_df.head(5)"
   ]
  },
  {
   "cell_type": "code",
   "execution_count": 50,
   "metadata": {},
   "outputs": [],
   "source": [
    "combined_df.to_csv(\"forestbirds.csv\",index=False)"
   ]
  },
  {
   "cell_type": "markdown",
   "metadata": {},
   "source": [
    "UNI VARIENT ANALYSIS"
   ]
  },
  {
   "cell_type": "code",
   "execution_count": 29,
   "metadata": {},
   "outputs": [],
   "source": [
    "import matplotlib.pyplot as plt"
   ]
  },
  {
   "cell_type": "code",
   "execution_count": 30,
   "metadata": {},
   "outputs": [],
   "source": [
    "import seaborn as sns"
   ]
  },
  {
   "cell_type": "code",
   "execution_count": 31,
   "metadata": {},
   "outputs": [
    {
     "data": {
      "text/plain": [
       "<Axes: xlabel='ID_Method', ylabel='count'>"
      ]
     },
     "execution_count": 31,
     "metadata": {},
     "output_type": "execute_result"
    },
    {
     "data": {
      "image/png": "[encoded data removed]",
      "text/plain": [
       "<Figure size 640x480 with 1 Axes>"
      ]
     },
     "metadata": {},
     "output_type": "display_data"
    }
   ],
   "source": [
    "sns.countplot(x=\"ID_Method\",data=combined_df) "
   ]
  },
  {
   "cell_type": "code",
   "execution_count": null,
   "metadata": {},
   "outputs": [],
   "source": [
    "#Common_Name\n",
    "sns.countplot(x=\"Common_Name\",data=combined_df) "
   ]
  },
  {
   "cell_type": "code",
   "execution_count": 33,
   "metadata": {},
   "outputs": [
    {
     "data": {
      "text/plain": [
       "108"
      ]
     },
     "execution_count": 33,
     "metadata": {},
     "output_type": "execute_result"
    }
   ],
   "source": [
    "combined_df[\"Common_Name\"].nunique()"
   ]
  },
  {
   "cell_type": "code",
   "execution_count": 34,
   "metadata": {},
   "outputs": [
    {
     "data": {
      "text/plain": [
       "<Axes: xlabel='Observer', ylabel='count'>"
      ]
     },
     "execution_count": 34,
     "metadata": {},
     "output_type": "execute_result"
    },
    {
     "data": {
      "image/png": "[encoded data removed]",
      "text/plain": [
       "<Figure size 640x480 with 1 Axes>"
      ]
     },
     "metadata": {},
     "output_type": "display_data"
    }
   ],
   "source": [
    "#Observer\n",
    "sns.countplot(x=\"Observer\",data=combined_df) "
   ]
  },
  {
   "cell_type": "code",
   "execution_count": 35,
   "metadata": {},
   "outputs": [
    {
     "data": {
      "text/plain": [
       "<Axes: xlabel='PIF_Watchlist_Status', ylabel='count'>"
      ]
     },
     "execution_count": 35,
     "metadata": {},
     "output_type": "execute_result"
    },
    {
     "data": {
      "image/png": "[encoded data removed]",
      "text/plain": [
       "<Figure size 640x480 with 1 Axes>"
      ]
     },
     "metadata": {},
     "output_type": "display_data"
    }
   ],
   "source": [
    "#\tPIF_Watchlist_Status\n",
    "sns.countplot(x=\"PIF_Watchlist_Status\",data=combined_df) "
   ]
  },
  {
   "cell_type": "markdown",
   "metadata": {},
   "source": [
    "BI - ANALYSIS"
   ]
  },
  {
   "cell_type": "code",
   "execution_count": 36,
   "metadata": {},
   "outputs": [],
   "source": [
    "site_count=combined_df[\"Site_Name\"].value_counts()"
   ]
  },
  {
   "cell_type": "code",
   "execution_count": null,
   "metadata": {},
   "outputs": [],
   "source": [
    "site_count"
   ]
  },
  {
   "cell_type": "code",
   "execution_count": 38,
   "metadata": {},
   "outputs": [],
   "source": [
    "unique_sites = combined_df.groupby(\"Admin_Unit_Code\")[\"Site_Name\"].nunique()"
   ]
  },
  {
   "cell_type": "code",
   "execution_count": null,
   "metadata": {},
   "outputs": [],
   "source": [
    "unique_sites"
   ]
  },
  {
   "cell_type": "code",
   "execution_count": 40,
   "metadata": {},
   "outputs": [
    {
     "data": {
      "text/plain": [
       "<Axes: xlabel='Admin_Unit_Code', ylabel='Site_Name'>"
      ]
     },
     "execution_count": 40,
     "metadata": {},
     "output_type": "execute_result"
    },
    {
     "data": {
      "image/png": "[encoded data removed]",
      "text/plain": [
       "<Figure size 1000x600 with 1 Axes>"
      ]
     },
     "metadata": {},
     "output_type": "display_data"
    }
   ],
   "source": [
    "unique_sites = combined_df.groupby(\"Admin_Unit_Code\")[\"Site_Name\"].nunique().reset_index()\n",
    "plt.figure(figsize=(10, 6))\n",
    "sns.barplot(data=unique_sites, x=\"Admin_Unit_Code\", y=\"Site_Name\")"
   ]
  },
  {
   "cell_type": "code",
   "execution_count": 41,
   "metadata": {},
   "outputs": [
    {
     "data": {
      "text/plain": [
       "<Axes: xlabel='Sky', ylabel='Count'>"
      ]
     },
     "execution_count": 41,
     "metadata": {},
     "output_type": "execute_result"
    },
    {
     "data": {
      "image/png": "[encoded data removed]",
      "text/plain": [
       "<Figure size 640x480 with 1 Axes>"
      ]
     },
     "metadata": {},
     "output_type": "display_data"
    }
   ],
   "source": [
    "bird_count_by_sky = combined_df.groupby([\"Sky\", \"Common_Name\"]).size().reset_index(name=\"Count\")\n",
    "bird_count_by_sky_max = bird_count_by_sky.loc[bird_count_by_sky.groupby(\"Sky\")[\"Count\"].idxmax()]\n",
    "\n",
    "# Find the bird with the maximum visits for each Sky\n",
    "\n",
    "sns.barplot(data=bird_count_by_sky_max , x=\"Sky\", y=\"Count\", hue=\"Common_Name\")"
   ]
  }
 ],
 "metadata": {
  "kernelspec": {
   "display_name": "Python 3",
   "language": "python",
   "name": "python3"
  },
  "language_info": {
   "codemirror_mode": {
    "name": "ipython",
    "version": 3
   },
   "file_extension": ".py",
   "mimetype": "text/x-python",
   "name": "python",
   "nbconvert_exporter": "python",
   "pygments_lexer": "ipython3",
   "version": "3.13.0"
  }
 },
 "nbformat": 4,
 "nbformat_minor": 2
}
